{
 "cells": [
  {
   "cell_type": "markdown",
   "metadata": {},
   "source": [
    "# 采集数据与模拟数据分类"
   ]
  },
  {
   "cell_type": "markdown",
   "metadata": {},
   "source": [
    "基于tensorflow框架，搭建RNN网络对真实数据及模拟数据二分类"
   ]
  },
  {
   "cell_type": "code",
   "execution_count": 1,
   "metadata": {},
   "outputs": [],
   "source": [
    "import tensorflow as tf\n",
    "import numpy as np\n",
    "import pandas as pd\n",
    "import matplotlib.pyplot as plt\n",
    "import json\n",
    "from tensorflow.contrib import rnn"
   ]
  },
  {
   "cell_type": "code",
   "execution_count": 2,
   "metadata": {},
   "outputs": [],
   "source": [
    "#设置参数\n",
    "#2个类别\n",
    "nclasses = 2\n",
    "#每个时刻的输入特征是3维，即每时刻输入x,y,z轴\n",
    "diminput = 3\n",
    "#总共是1600个LSTM cell\n",
    "nsteps = 1600\n",
    "#隐层的节点数\n",
    "dimhidden = 16\n",
    "#输出的分类类别\n",
    "dimoutput = nclasses#2\n",
    "#采集器真实数据个数\n",
    "num_sample = 32\n",
    "#模拟数据个数\n",
    "num_data = 500\n",
    "#所有样本迭代（epoch）次数\n",
    "training_epochs = 5\n",
    "#一次训练batch大小\n",
    "batch_size = 4"
   ]
  },
  {
   "cell_type": "code",
   "execution_count": 3,
   "metadata": {},
   "outputs": [
    {
     "name": "stdout",
     "output_type": "stream",
     "text": [
      "[[-3.85078448 -0.08520129 -1.4908045 ]\n",
      " [ 4.03886426 -1.81864622 -2.30038526]\n",
      " [-1.05622026 -0.84762108  0.73812294]\n",
      " [ 4.3687973  -0.95035218  0.32962863]\n",
      " [ 4.80552864 -1.56112517  0.69763546]\n",
      " [ 3.06195688 -1.94380509 -1.6739742 ]\n",
      " [-1.11414596 -1.33590631  2.46810279]\n",
      " [ 0.76489797 -0.72140242 -0.95766253]\n",
      " [-2.30039026  2.08157037  1.40258566]\n",
      " [ 0.23679495  3.07218747  2.31575871]]\n"
     ]
    }
   ],
   "source": [
    "#加载数据并转换为array\n",
    "#第一类模拟数据样本\n",
    "str_file1 = 'E:/learning/testzou/MySimplePythonApplication/data/simulation1.json'#多个list\n",
    "data_array = np.zeros((1,3))\n",
    "file = open(str_file1,\"r\")\n",
    "for line in file:\n",
    "    data = pd.DataFrame(json.loads(str(line)))\n",
    "    tem_array = data.values\n",
    "    data_array = np.r_[data_array,tem_array[0:nsteps,:]]\n",
    "data_array = np.delete(data_array,0,0) #data_array是其中一类样本\n",
    "\n",
    "#第二类采集器真实数据样本\n",
    "sample_array = np.zeros((1,3))\n",
    "for i in range(1,33):\n",
    "    filestr = \"E:/learning/testzou/MySimplePythonApplication/data/\" + str(i) + \".json\"\n",
    "    with open(filestr) as f:\n",
    "        sample2 = pd.DataFrame(json.load(f))\n",
    "        tem_array = sample2.values\n",
    "        sample_array = np.r_[sample_array,tem_array[0:nsteps,:]]\n",
    "sample_array = np.delete(sample_array,0,0)\n",
    "print(data_array[0:10])"
   ]
  },
  {
   "cell_type": "code",
   "execution_count": 4,
   "metadata": {},
   "outputs": [],
   "source": [
    "#定义label矩阵\n",
    "y1 = np.zeros((1,2))\n",
    "for i in range(0,num_data):\n",
    "    tem = np.array([[1,0]])\n",
    "    y1 = np.r_[y1,tem]\n",
    "y1=y1.reshape(-1,2)\n",
    "data_label = np.delete(y1,0,0)\n",
    "\n",
    "y2 = np.zeros((1,2))\n",
    "for i in range(0,num_sample):\n",
    "    tem = np.array([[0,1]])\n",
    "    y2 = np.r_[y2,tem]\n",
    "y2 = y2.reshape(-1,2)\n",
    "sample_label = np.delete(y2,0,0)\n",
    "\n",
    "training_label = np.r_[sample_label[0:(num_sample-2),:],data_label[0:(num_data-50),:]]\n",
    "test_label = np.r_[sample_label[(num_sample-2):num_sample,:],data_label[(num_data-50):num_data,:]]\n",
    "training_data = np.r_[sample_array[0:nsteps*(num_sample-2),:],data_array[0:nsteps*(num_data-50),:]]\n",
    "test_data = np.r_[sample_array[nsteps*(num_sample-2):nsteps*num_sample,:],data_array[nsteps*(num_data-50):nsteps*num_data,:]]\n",
    "test_data = test_data.reshape(52,nsteps,3)"
   ]
  },
  {
   "cell_type": "code",
   "execution_count": 5,
   "metadata": {},
   "outputs": [],
   "source": [
    "#设置权重和偏置参数\n",
    "# W[\"h1\"]，b[\"b1\"]为输入层到隐层的权重，大小为[3,dimhidden]\n",
    "# W[\"h2\"], b[\"b2\"]为隐层到RNN的权重，大小为[dimhidden，nclass]\n",
    "W = {\"h1\": tf.Variable(tf.random_normal([diminput,dimhidden])),\n",
    "     \"h2\": tf.Variable(tf.random_normal([dimhidden, dimoutput]))}\n",
    "b = {\"b1\": tf.Variable(tf.random_normal([dimhidden])),\n",
    "     \"b2\": tf.Variable(tf.random_normal([dimoutput]))}"
   ]
  },
  {
   "cell_type": "code",
   "execution_count": 6,
   "metadata": {},
   "outputs": [
    {
     "name": "stdout",
     "output_type": "stream",
     "text": [
      "RNN is defined\n"
     ]
    }
   ],
   "source": [
    "#创建模型\n",
    "def RNN(X,W,b,nsteps):\n",
    "    #RNN 的输入shape为（batch_size * LSTM的个数 * input的维度）（4 * 100 * 3）\n",
    "    #把一个batch_size中，所有sample的同一时刻拉出来（100 * 4 * 3）\n",
    "    X = tf.transpose(X,[1,0,2])#输入X的维度为batch_size * LSTM个数 * 神经元个数（input的维度）\n",
    "    X = tf.reshape(X,[-1,diminput])#维度（400 * 3）\n",
    "    H_1 = tf.matmul(X,W[\"h1\"]) + b[\"b1\"] \n",
    "    H_1 = tf.split(H_1, nsteps,0) \n",
    "    lstm_cell = tf.nn.rnn_cell.BasicLSTMCell(dimhidden,forget_bias=1)\n",
    "    LSTM_O, LSTM_S = rnn.static_rnn(lstm_cell, H_1, dtype = tf.float32)#LSTM_S为内部记忆向量，传递给下一个RNN神经元\n",
    "    #LSTM_O进行softmax处理，通过概率来确定类别。\n",
    "    Output = tf.matmul(LSTM_O[-1], W[\"h2\"]) + b[\"b2\"]\n",
    "    return{\"X\":X,\"H_1\": H_1, \"LSTM_O\": LSTM_O, \"LSTM_S\": LSTM_S, \"Output\":Output}\n",
    "print(\"RNN is defined\")"
   ]
  },
  {
   "cell_type": "code",
   "execution_count": 7,
   "metadata": {},
   "outputs": [
    {
     "name": "stdout",
     "output_type": "stream",
     "text": [
      "WARNING:tensorflow:From <ipython-input-7-96b3f7ce903e>:7: softmax_cross_entropy_with_logits (from tensorflow.python.ops.nn_ops) is deprecated and will be removed in a future version.\n",
      "Instructions for updating:\n",
      "\n",
      "Future major versions of TensorFlow will allow gradients to flow\n",
      "into the labels input on backprop by default.\n",
      "\n",
      "See @{tf.nn.softmax_cross_entropy_with_logits_v2}.\n",
      "\n",
      "forward and backprop is defined\n"
     ]
    }
   ],
   "source": [
    "#设置损失，优化，学习率，准确率，参数初始化\n",
    "learning_rate = 0.001\n",
    "x = tf.placeholder(\"float\", [None, nsteps, diminput])\n",
    "y = tf.placeholder(\"float\", [None, dimoutput])\n",
    "myrnn = RNN(x,W,b,nsteps)\n",
    "pred = myrnn['Output']\n",
    "cost = tf.reduce_mean(tf.nn.softmax_cross_entropy_with_logits(logits=pred,labels=y))\n",
    "optm = tf.train.GradientDescentOptimizer(learning_rate).minimize(cost)#通过调用这个函数可以让w 参数在默认情况下标记为可训练的\n",
    "accr = tf.reduce_mean(tf.cast(tf.equal(tf.argmax(pred,1),tf.argmax(y,1)),tf.float32))\n",
    "init = tf.global_variables_initializer()\n",
    "print(\"forward and backprop is defined\")"
   ]
  },
  {
   "cell_type": "code",
   "execution_count": 8,
   "metadata": {},
   "outputs": [
    {
     "name": "stdout",
     "output_type": "stream",
     "text": [
      "Start optimization\n",
      "Epoch: 000/005 cost: 0.669891624\n",
      "Training accuracy: 1.000\n",
      "Test accuracy: 0.981\n",
      "Epoch: 001/005 cost: 0.118396799\n",
      "Training accuracy: 1.000\n",
      "Test accuracy: 1.000\n",
      "Epoch: 002/005 cost: 0.063471835\n",
      "Training accuracy: 1.000\n",
      "Test accuracy: 1.000\n",
      "Epoch: 003/005 cost: 0.044003941\n",
      "Training accuracy: 1.000\n",
      "Test accuracy: 1.000\n",
      "Epoch: 004/005 cost: 0.033915814\n",
      "Training accuracy: 1.000\n",
      "Test accuracy: 1.000\n",
      "Optimization Finished.\n"
     ]
    }
   ],
   "source": [
    "#训练\n",
    "display_step = 1\n",
    "sess = tf.Session()\n",
    "sess.run(init)\n",
    "print(\"Start optimization\")\n",
    "train_acc=np.zeros(training_epochs)\n",
    "test_acc=np.zeros(training_epochs)\n",
    "loss=np.zeros(training_epochs)\n",
    "for epoch in range(training_epochs):\n",
    "    avg_cost = 0\n",
    "    total_batch = int(len(training_data)/nsteps/batch_size)\n",
    "    #循环所有batches\n",
    "    for i in range(total_batch):\n",
    "        batch_xs = training_data\n",
    "        batch_xs = training_data[i*nsteps*batch_size:(i + 1)*nsteps*batch_size,:]  # size is [nstep * batch_size]\n",
    "        batch_ys = training_label[i*batch_size:(i+1)*batch_size,:]\n",
    "        batch_xs = batch_xs.reshape((batch_size, nsteps, diminput))\n",
    "        #用batch数据做training\n",
    "        feeds = {x:batch_xs, y:batch_ys}\n",
    "        sess.run(optm,feed_dict=feeds)\n",
    "        #计算平均损失\n",
    "        avg_cost += sess.run(cost, feed_dict=feeds)/total_batch\n",
    "        loss[epoch]=avg_cost\n",
    "    #每个epoch step显示\n",
    "    if epoch % display_step == 0:\n",
    "        print(\"Epoch: %03d/%03d cost: %.9f\" %(epoch, training_epochs, avg_cost))\n",
    "        feeds = {x: batch_xs, y: batch_ys}\n",
    "        train_acc[epoch] = sess.run(accr, feed_dict=feeds)\n",
    "        print(\"Training accuracy: %.3f\" % (train_acc[epoch]))\n",
    "        #testimgs = testimgs.reshape((ntest, nsteps, diminput))\n",
    "        feeds = {x:test_data, y: test_label}\n",
    "        test_acc[epoch] = sess.run(accr, feed_dict=feeds)\n",
    "        print(\"Test accuracy: %.3f\" % (test_acc[epoch]))\n",
    "\n",
    "print(\"Optimization Finished.\")"
   ]
  },
  {
   "cell_type": "code",
   "execution_count": 9,
   "metadata": {},
   "outputs": [
    {
     "data": {
      "text/plain": [
       "<matplotlib.legend.Legend at 0x2911b2d3978>"
      ]
     },
     "execution_count": 9,
     "metadata": {},
     "output_type": "execute_result"
    },
    {
     "data": {
      "image/png": "[encoded data removed]",
      "text/plain": [
       "<Figure size 432x288 with 1 Axes>"
      ]
     },
     "metadata": {
      "needs_background": "light"
     },
     "output_type": "display_data"
    },
    {
     "data": {
      "image/png": "[encoded data removed]",
      "text/plain": [
       "<Figure size 432x288 with 1 Axes>"
      ]
     },
     "metadata": {
      "needs_background": "light"
     },
     "output_type": "display_data"
    }
   ],
   "source": [
    "#损失函数曲线图\n",
    "plt.figure(1)#(figsize=(20,10))\n",
    "plt.title(\"Loss Curve\")\n",
    "plt.xlabel(\"Epoch\")\n",
    "plt.ylabel(\"training loss\")\n",
    "plt.plot(range(training_epochs), loss, alpha=0.5, label=\"avg_loss\")\n",
    "#plt.plot(range(training_epochs),train_acc, \"o-\", linewidth=2, label = \"training acc\")\n",
    "#plt.plot(range(training_epochs),test_acc,\"m-\", linewidth=2,label = \"training acc\")\n",
    "plt.legend(loc=\"upper right\")\n",
    "#plt.show()\n",
    "\n",
    "plt.figure(2)#(figsize=(20,10))\n",
    "plt.title(\"Accuracy\")\n",
    "plt.xlabel(\"Epoch\")\n",
    "plt.ylabel(\"Accuracy\")\n",
    "#plt.plot(range(training_epochs), loss, alpha=0.5, label=\"avg_loss\")\n",
    "plt.plot(range(training_epochs),train_acc, \"o-\", linewidth=2, label = \"training acc\")\n",
    "plt.plot(range(training_epochs),test_acc,\"m-\", linewidth=2,label = \"test acc\")\n",
    "plt.legend(loc=\"upper right\")\n",
    "#plt.show()"
   ]
  },
  {
   "cell_type": "code",
   "execution_count": null,
   "metadata": {},
   "outputs": [],
   "source": []
  }
 ],
 "metadata": {
  "kernelspec": {
   "display_name": "Python 3",
   "language": "python",
   "name": "python3"
  },
  "language_info": {
   "codemirror_mode": {
    "name": "ipython",
    "version": 3
   },
   "file_extension": ".py",
   "mimetype": "text/x-python",
   "name": "python",
   "nbconvert_exporter": "python",
   "pygments_lexer": "ipython3",
   "version": "3.7.1"
  }
 },
 "nbformat": 4,
 "nbformat_minor": 2
}
