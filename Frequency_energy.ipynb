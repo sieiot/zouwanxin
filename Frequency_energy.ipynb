{
 "cells": [
  {
   "cell_type": "markdown",
   "metadata": {},
   "source": [
    "# 频带能量："
   ]
  },
  {
   "cell_type": "markdown",
   "metadata": {},
   "source": [
    "各个频带（倍频）的数值叠加"
   ]
  },
  {
   "cell_type": "code",
   "execution_count": 1,
   "metadata": {},
   "outputs": [],
   "source": [
    "import math\n",
    "import numpy as np\n",
    "import pandas as pd\n",
    "import seaborn\n",
    "from scipy.fftpack import fft,ifft"
   ]
  },
  {
   "cell_type": "code",
   "execution_count": 2,
   "metadata": {},
   "outputs": [],
   "source": [
    "def F_energy(data):\n",
    "    F_data = fft(data)\n",
    "    yf = abs(F_data)\n",
    "    yf1 = yf/len(data)\n",
    "    yf2 = yf1[range(int(len(data)/2))]\n",
    "    xf = np.arange(len(data))\n",
    "    xf1 = xf\n",
    "    xf2 = xf[range(int(len(data)/2))]\n",
    "    #freq= fs * fftfreq(len(data)//2)\n",
    "    fre_energy = sum(yf2)\n",
    "    return fre_energy"
   ]
  },
  {
   "cell_type": "code",
   "execution_count": null,
   "metadata": {},
   "outputs": [],
   "source": []
  }
 ],
 "metadata": {
  "kernelspec": {
   "display_name": "Python 3",
   "language": "python",
   "name": "python3"
  },
  "language_info": {
   "codemirror_mode": {
    "name": "ipython",
    "version": 3
   },
   "file_extension": ".py",
   "mimetype": "text/x-python",
   "name": "python",
   "nbconvert_exporter": "python",
   "pygments_lexer": "ipython3",
   "version": "3.7.1"
  }
 },
 "nbformat": 4,
 "nbformat_minor": 2
}
